{
 "cells": [
  {
   "cell_type": "code",
   "execution_count": 16,
   "metadata": {},
   "outputs": [],
   "source": [
    "import pandas as pd\n",
    "import requests\n",
    "import time\n",
    "import datetime\n",
    "from tqdm import tqdm\n",
    "from ta import add_all_ta_features\n",
    "import numpy as np"
   ]
  },
  {
   "cell_type": "code",
   "execution_count": 2,
   "metadata": {},
   "outputs": [],
   "source": [
    "#Initial Configuration\n",
    "symbol = 'BTCUSDT'\n",
    "interval = '1m'\n",
    "start_date = '2016-01-01'\n",
    "end_date = '2024-07-11'"
   ]
  },
  {
   "cell_type": "code",
   "execution_count": 3,
   "metadata": {},
   "outputs": [],
   "source": [
    "\n",
    "# Función para obtener datos históricos de Binance API\n",
    "def get_binance_bars(symbol, interval, start_time, end_time=None):\n",
    "    base_url = 'https://api.binance.com'\n",
    "    endpoint = '/api/v3/klines'\n",
    "    params = {\n",
    "        'symbol': symbol,\n",
    "        'interval': interval,\n",
    "        'startTime': start_time,\n",
    "        'endTime': end_time,\n",
    "        'limit': 1000  # Límite máximo de datos por solicitud\n",
    "    }\n",
    "    \n",
    "    response = requests.get(base_url + endpoint, params=params)\n",
    "    data = response.json()\n",
    "    df = pd.DataFrame(data, columns=['timestamp', 'open', 'high', 'low', 'close', 'volume', 'close_time',\n",
    "                                     'quote_asset_volume', 'number_of_trades', 'taker_buy_base_asset_volume',\n",
    "                                     'taker_buy_quote_asset_volume', 'ignore'])\n",
    "    df['timestamp'] = pd.to_datetime(df['timestamp'], unit='ms')\n",
    "    return df"
   ]
  },
  {
   "cell_type": "code",
   "execution_count": 5,
   "metadata": {},
   "outputs": [
    {
     "name": "stderr",
     "output_type": "stream",
     "text": [
      " 81%|████████  | 3619809/4484100 [1:05:30<15:38, 920.94it/s] \n"
     ]
    },
    {
     "name": "stdout",
     "output_type": "stream",
     "text": [
      "Datos descargados y guardados en 'bitcoin_minute_data.csv'\n"
     ]
    }
   ],
   "source": [
    "\n",
    "# Convertir fechas a milisegundos\n",
    "start_time = int(time.mktime(datetime.datetime.strptime(start_date, \"%Y-%m-%d\").timetuple()) * 1000)\n",
    "end_time = int(time.mktime(datetime.datetime.strptime(end_date, \"%Y-%m-%d\").timetuple()) * 1000)\n",
    "\n",
    "# Calcular el número total de minutos para la barra de progreso\n",
    "total_minutes = (end_time - start_time) // 60000\n",
    "\n",
    "# Descargar datos\n",
    "df_list = []\n",
    "current_time = start_time\n",
    "\n",
    "with tqdm(total=total_minutes) as pbar:\n",
    "    while current_time < end_time:\n",
    "        df = get_binance_bars(symbol, interval, current_time, end_time)\n",
    "        if df.empty:\n",
    "            break\n",
    "        df_list.append(df)\n",
    "        current_time = int(df['timestamp'].iloc[-1].timestamp() * 1000) + 60000  # Avanzar 1 minuto más allá del último timestamp\n",
    "        pbar.update(len(df))  # Actualizar la barra de progreso\n",
    "        # Esperar para evitar límites de tasa\n",
    "        time.sleep(0.5)\n",
    "\n",
    "# Concatenar todos los datos descargados\n",
    "df_all = pd.concat(df_list, ignore_index=True)\n",
    "\n",
    "# Guardar en un archivo CSV\n",
    "df_all.to_csv('bitcoin_minute_data.csv', index=False)\n",
    "\n",
    "print(\"Datos descargados y guardados en 'bitcoin_1m_data.csv'\")"
   ]
  },
  {
   "cell_type": "code",
   "execution_count": 19,
   "metadata": {},
   "outputs": [
    {
     "name": "stderr",
     "output_type": "stream",
     "text": [
      "/opt/homebrew/lib/python3.10/site-packages/ta/trend.py:1030: FutureWarning: Series.__setitem__ treating keys as positions is deprecated. In a future version, integer keys will always be treated as labels (consistent with DataFrame behavior). To set a value by position, use `ser.iloc[pos] = value`\n",
      "  self._psar[i] = high2\n"
     ]
    }
   ],
   "source": [
    "# Leer el archivo CSV\n",
    "df_all = pd.read_csv('../data/bitcoin_1min_data.csv')\n",
    "\n",
    "# Cálculo de datos agregados para timeframes superiores\n",
    "df_all['timestamp'] = pd.to_datetime(df_all['timestamp'])\n",
    "df_all.set_index('timestamp', inplace=True)\n",
    "\n",
    "# Calcular indicadores técnicos\n",
    "df_all = add_all_ta_features(df_all, open=\"open\", high=\"high\", low=\"low\", close=\"close\", volume=\"volume\")\n",
    "\n",
    "# Calcular log returns\n",
    "df_all['log_return'] = np.log(df_all['close'].astype(float) / df_all['close'].astype(float).shift(1))\n",
    "\n",
    "# Guardar los datos agregados y las características técnicas en un archivo CSV\n",
    "df_all.to_csv(f'../data/bitcoin_{timeframe}_data_ta.csv')"
   ]
  },
  {
   "cell_type": "code",
   "execution_count": 18,
   "metadata": {},
   "outputs": [
    {
     "name": "stderr",
     "output_type": "stream",
     "text": [
      "/opt/homebrew/lib/python3.10/site-packages/ta/trend.py:1030: FutureWarning: Series.__setitem__ treating keys as positions is deprecated. In a future version, integer keys will always be treated as labels (consistent with DataFrame behavior). To set a value by position, use `ser.iloc[pos] = value`\n",
      "  self._psar[i] = high2\n",
      "/opt/homebrew/lib/python3.10/site-packages/ta/trend.py:1030: FutureWarning: Series.__setitem__ treating keys as positions is deprecated. In a future version, integer keys will always be treated as labels (consistent with DataFrame behavior). To set a value by position, use `ser.iloc[pos] = value`\n",
      "  self._psar[i] = high2\n",
      "/opt/homebrew/lib/python3.10/site-packages/ta/trend.py:1030: FutureWarning: Series.__setitem__ treating keys as positions is deprecated. In a future version, integer keys will always be treated as labels (consistent with DataFrame behavior). To set a value by position, use `ser.iloc[pos] = value`\n",
      "  self._psar[i] = high2\n",
      "/opt/homebrew/lib/python3.10/site-packages/ta/trend.py:1030: FutureWarning: Series.__setitem__ treating keys as positions is deprecated. In a future version, integer keys will always be treated as labels (consistent with DataFrame behavior). To set a value by position, use `ser.iloc[pos] = value`\n",
      "  self._psar[i] = high2\n",
      "/opt/homebrew/lib/python3.10/site-packages/ta/trend.py:1030: FutureWarning: Series.__setitem__ treating keys as positions is deprecated. In a future version, integer keys will always be treated as labels (consistent with DataFrame behavior). To set a value by position, use `ser.iloc[pos] = value`\n",
      "  self._psar[i] = high2\n"
     ]
    },
    {
     "name": "stdout",
     "output_type": "stream",
     "text": [
      "Datos descargados y guardados en archivos CSV para cada timeframe\n"
     ]
    }
   ],
   "source": [
    "\n",
    "\n",
    "# Crear un DataFrame para cada timeframe superior\n",
    "timeframes = ['5min', '15min', '1h', '4h', '1d']\n",
    "aggregated_dfs = {}\n",
    "\n",
    "for timeframe in timeframes:\n",
    "    df_agg = df_all.resample(timeframe).agg({\n",
    "        'open': 'first',\n",
    "        'high': 'max',\n",
    "        'low': 'min',\n",
    "        'close': 'last',\n",
    "        'volume': 'sum',\n",
    "        'quote_asset_volume': 'sum',\n",
    "        'number_of_trades': 'sum',\n",
    "        'taker_buy_base_asset_volume': 'sum',\n",
    "        'taker_buy_quote_asset_volume': 'sum'\n",
    "    }).dropna()\n",
    "\n",
    "    # Calcular indicadores técnicos\n",
    "    df_agg = add_all_ta_features(df_agg, open=\"open\", high=\"high\", low=\"low\", close=\"close\", volume=\"volume\")\n",
    "\n",
    "    # Calcular log returns\n",
    "    df_agg['log_return'] = np.log(df_agg['close'].astype(float) / df_agg['close'].astype(float).shift(1))\n",
    "\n",
    "    # Guardar los datos agregados y las características técnicas en un archivo CSV\n",
    "    df_agg.to_csv(f'../data/bitcoin_{timeframe}_data.csv')\n",
    "\n",
    "print(\"Datos descargados y guardados en archivos CSV para cada timeframe\")"
   ]
  },
  {
   "cell_type": "code",
   "execution_count": null,
   "metadata": {},
   "outputs": [],
   "source": []
  }
 ],
 "metadata": {
  "kernelspec": {
   "display_name": "Python 3",
   "language": "python",
   "name": "python3"
  },
  "language_info": {
   "codemirror_mode": {
    "name": "ipython",
    "version": 3
   },
   "file_extension": ".py",
   "mimetype": "text/x-python",
   "name": "python",
   "nbconvert_exporter": "python",
   "pygments_lexer": "ipython3",
   "version": "3.10.14"
  }
 },
 "nbformat": 4,
 "nbformat_minor": 2
}
